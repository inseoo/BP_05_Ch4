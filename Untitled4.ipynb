{
  "nbformat": 4,
  "nbformat_minor": 0,
  "metadata": {
    "colab": {
      "provenance": [],
      "authorship_tag": "ABX9TyMXJn7F9oBciUCLk2Kw8lKz",
      "include_colab_link": true
    },
    "kernelspec": {
      "name": "python3",
      "display_name": "Python 3"
    },
    "language_info": {
      "name": "python"
    }
  },
  "cells": [
    {
      "cell_type": "markdown",
      "metadata": {
        "id": "view-in-github",
        "colab_type": "text"
      },
      "source": [
        "<a href=\"https://colab.research.google.com/github/inseoo/BP_05_Ch4/blob/main/Untitled4.ipynb\" target=\"_parent\"><img src=\"https://colab.research.google.com/assets/colab-badge.svg\" alt=\"Open In Colab\"/></a>"
      ]
    },
    {
      "cell_type": "markdown",
      "source": [
        "1. 문자열과 숫자는 합칠 수 없다. 숫자를 문자열로 변환한 후에 문자열과 합쳐야 한다."
      ],
      "metadata": {
        "id": "JtjHF5XWPqa5"
      }
    },
    {
      "cell_type": "code",
      "execution_count": 1,
      "metadata": {
        "colab": {
          "base_uri": "https://localhost:8080/"
        },
        "id": "dWT1KrMKOzWh",
        "outputId": "701ae96b-bd2b-4495-a149-59e132ef4381"
      },
      "outputs": [
        {
          "output_type": "stream",
          "name": "stdout",
          "text": [
            "나는 12개의 사과를 먹었다.\n"
          ]
        }
      ],
      "source": [
        "print('나는 '+str(12)+'개의 사과를 먹었다.')"
      ]
    },
    {
      "cell_type": "markdown",
      "source": [
        "2. 다음과 같은 수식을 계산하면 결과는 무엇인가?"
      ],
      "metadata": {
        "id": "RobexX7aP-Aj"
      }
    },
    {
      "cell_type": "code",
      "source": [
        "print('apple'+'grape')\n",
        "print('apple'*3)"
      ],
      "metadata": {
        "colab": {
          "base_uri": "https://localhost:8080/"
        },
        "id": "kxWB_4IeQM2F",
        "outputId": "6a50ec83-6278-423e-d1e5-28bac6ebe49b"
      },
      "execution_count": 2,
      "outputs": [
        {
          "output_type": "stream",
          "name": "stdout",
          "text": [
            "applegrape\n",
            "appleappleapple\n"
          ]
        }
      ]
    },
    {
      "cell_type": "markdown",
      "source": [
        "3. 다음과 같이 사용자가 입력한 문자열 중에서 처음 2글자와 마지막 2글자를 추출한 후에 이들을 합쳐서 출력해보자."
      ],
      "metadata": {
        "id": "X5LFKaJJQCtR"
      }
    },
    {
      "cell_type": "code",
      "source": [
        "str=input(\"문자열을 입력하시오: \")\n",
        "s=str[0:2]+str[-2:]\n",
        "\n",
        "print(s)"
      ],
      "metadata": {
        "colab": {
          "base_uri": "https://localhost:8080/"
        },
        "id": "Svt4LIsvQYM1",
        "outputId": "f43cff94-1d3e-4a72-8971-b593573b89c5"
      },
      "execution_count": 3,
      "outputs": [
        {
          "output_type": "stream",
          "name": "stdout",
          "text": [
            "문자열을 입력하시오: python\n",
            "pyon\n"
          ]
        }
      ]
    },
    {
      "cell_type": "markdown",
      "source": [
        "4. 다음과 같이 사용자가 입력한 문자열 뒤에 항상 \"하는 중\"을 붙이는 프로그램을 작성해보자."
      ],
      "metadata": {
        "id": "rjjeCoc1QpGP"
      }
    },
    {
      "cell_type": "code",
      "source": [
        "s=input(\"문자열을 입력하시오: \")\n",
        "s+=\"하는 중\"\n",
        "print(s)"
      ],
      "metadata": {
        "colab": {
          "base_uri": "https://localhost:8080/"
        },
        "id": "C9m4i7_ZRF95",
        "outputId": "bd47a3eb-a0ba-4c9d-af17-6d66a5505190"
      },
      "execution_count": 4,
      "outputs": [
        {
          "output_type": "stream",
          "name": "stdout",
          "text": [
            "문자열을 입력하시오: 청소\n",
            "청소하는 중\n"
          ]
        }
      ]
    },
    {
      "cell_type": "markdown",
      "source": [
        "5. 사용자가 입력한 기호 안에 문자열을 삽입하려면 어떻게 해야 하는가? 기호는 문자 2개로 이루어있다고 가정한다."
      ],
      "metadata": {
        "id": "Jd31hQGqQxeA"
      }
    },
    {
      "cell_type": "code",
      "source": [
        "str=input(\"기호를 입력하시오: \")\n",
        "word=input(\"중간에 삽입할 문자열을 입력하시오: \")\n",
        "s=str[:1]+word+str[1:]\n",
        "\n",
        "print(s)"
      ],
      "metadata": {
        "colab": {
          "base_uri": "https://localhost:8080/"
        },
        "id": "AWtGlL1rRTFq",
        "outputId": "3df98c52-fb48-4743-f62e-2f952e1eae03"
      },
      "execution_count": 5,
      "outputs": [
        {
          "output_type": "stream",
          "name": "stdout",
          "text": [
            "기호를 입력하시오: []\n",
            "중간에 삽입할 문자열을 입력하시오: python\n",
            "[python]\n"
          ]
        }
      ]
    },
    {
      "cell_type": "markdown",
      "source": [
        "6. 4개의 숫자가 들어 있는 리스트가 있다. 리스트 안의 숫자들을 꺼내서 합계를 계산하여 출력하는 프로그램을 작성하여라. 반복문은 사용하지 않는다. 리스트의 길이는 항상 4라고 가정한다."
      ],
      "metadata": {
        "id": "xqy9DjrnRnim"
      }
    },
    {
      "cell_type": "code",
      "source": [
        "lista=[1, 2, 3, 4]\n",
        "sum=0\n",
        "sum=lista[0]+lista[1]+lista[2]+lista[3]\n",
        "print(\"리스트=\", lista)\n",
        "print(\"리스트 숫자들의 합=\", sum)"
      ],
      "metadata": {
        "colab": {
          "base_uri": "https://localhost:8080/"
        },
        "id": "PQ0o6t9oR44X",
        "outputId": "fc712822-f811-4b3d-9fa0-b624765b3ba4"
      },
      "execution_count": 6,
      "outputs": [
        {
          "output_type": "stream",
          "name": "stdout",
          "text": [
            "리스트= [1, 2, 3, 4]\n",
            "리스트 숫자들의 합= 10\n"
          ]
        }
      ]
    },
    {
      "cell_type": "markdown",
      "source": [
        "7. 사용자가 입력하는 3가지 색상을 리스트에 저장하였다가 하나씩 꺼내서 그 색상으로 채워진 원을 그리는 프로그램을 작성해보자. 반복문은 사용하지 않는다. 채워진 원을 그리려면 다음과 같은 문장들을 사용한다."
      ],
      "metadata": {
        "id": "1LqSaSzgS2-q"
      }
    },
    {
      "cell_type": "code",
      "source": [
        ">>> import turtle\n",
        ">>> t=turtle.Turtle()\n",
        ">>> t.shape(\"turtle\")\n",
        ">>> \n",
        ">>> lista=[]\n",
        ">>> color=input(\"색상 #1을 입력하시오: \")\n",
        "색상 #1을 입력하시오: yellow\n",
        ">>> lista.append(color)\n",
        ">>> color=input(\"색상 #2을 입력하시오: \")\n",
        "색상 #2을 입력하시오: red\n",
        ">>> lista.append(color)\n",
        ">>> color=input(\"색상 #3을 입력하시오: \")\n",
        "색상 #3을 입력하시오: blue\n",
        ">>> lista.append(color)\n",
        ">>> \n",
        ">>> t.fillcolor(lista[0])\n",
        ">>> t.begin_fill()\n",
        ">>> t.circle(50)\n",
        ">>> t.end_fill()\n",
        ">>> \n",
        ">>> t.up()\n",
        ">>> t.goto(100, 0)\n",
        ">>> t.down()\n",
        ">>> t.fillcolor(lista[1])\n",
        ">>> t.begin_fill()\n",
        ">>> t.circle(50)\n",
        "t.\n",
        ">>> t.end_fill()\n",
        ">>> \n",
        ">>> t.up()\n",
        ">>> t.goto(200, 0)\n",
        ">>> t.down()\n",
        ">>> t.fillcolor(lista[2])\n",
        ">>> t.begin_fill()\n",
        ">>> t.circle(50)\n",
        "t.e\n",
        ">>> t.end_fill()\n",
        ">>> t._screen.exitonclick()   #화면을 마우스로 클릭해야 종료되게 하는 부분 "
      ],
      "metadata": {
        "id": "6J4oV6rISqbV"
      },
      "execution_count": null,
      "outputs": []
    },
    {
      "cell_type": "markdown",
      "source": [
        "8. 사용자로부터 입력하는 3개의 좌표 (x,y)를 리스트에 저장한다. 이들 좌표를 꺼내서 거북이를 이동하는 프로그램을 작성해보자."
      ],
      "metadata": {
        "id": "Rjk-dnh3VZ-z"
      }
    },
    {
      "cell_type": "code",
      "source": [
        ">>> import turtle\n",
        ">>> t=turtle.Turtle()\n",
        ">>> t.shape(\"turtle\")\n",
        ">>> \n",
        ">>> lista=[]\n",
        ">>> lista.append(int(input(\"x1: \")))\n",
        "x1: 0\n",
        ">>> lista.append(int(input(\"y1: \")))\n",
        "y1: 0\n",
        ">>> lista.append(int(input(\"x2: \")))\n",
        "x2: 100\n",
        ">>> lista.append(int(input(\"y2: \")))\n",
        "y2: 100\n",
        ">>> lista.append(int(input(\"x3: \")))\n",
        "x3: 200\n",
        ">>> lista.append(int(input(\"y3: \")))\n",
        "y3: 100\n",
        ">>> \n",
        ">>> t.goto(lista[0], lista[1])\n",
        ">>> t.goto(lista[2], lista[3])\n",
        ">>> t.goto(lista[4], lista[5])\n",
        ">>> t._screen.exitonclick()     #화면을 마우스로 클릭해야 종료되게 하는 부분 "
      ],
      "metadata": {
        "id": "06S0HpO2VvqZ"
      },
      "execution_count": null,
      "outputs": []
    }
  ]
}